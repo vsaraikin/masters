{
 "cells": [
  {
   "cell_type": "markdown",
   "metadata": {},
   "source": [
    "# HW 5-6 Vladimir Saraikin"
   ]
  },
  {
   "cell_type": "markdown",
   "metadata": {},
   "source": [
    "## Task 1"
   ]
  },
  {
   "cell_type": "markdown",
   "metadata": {},
   "source": [
    "1. Finding $\\xi_i$:\n",
    "\n",
    "   - The Pearson $\\chi^2$ test statistic $T(X)$: $T(X) = \\sum_{i=1}^r \\frac{(v_i - np_i)^2}{np_i}.$\n",
    "   - $\\xi_i = \\frac{v_i - np_i}{\\sqrt{np_i}}$ - the standardized deviation of the observed from expected frequencies.\n",
    "   - Then, to represent test statistic as a sum of squares $\\xi_i$: $T(X) = \\sum_{i=1}^r \\xi_i^2$"
   ]
  },
  {
   "cell_type": "markdown",
   "metadata": {},
   "source": [
    "## Task 2"
   ]
  },
  {
   "cell_type": "code",
   "execution_count": 5,
   "metadata": {},
   "outputs": [
    {
     "data": {
      "text/plain": [
       "(4.842302878598247, 0.8478326809161991)"
      ]
     },
     "execution_count": 5,
     "metadata": {},
     "output_type": "execute_result"
    }
   ],
   "source": [
    "import scipy.stats as stats\n",
    "\n",
    "observed_counts = [74, 91, 83, 79, 80, 73, 77, 75, 76, 91]\n",
    "total_observations = sum(observed_counts)\n",
    "num_intervals = len(observed_counts)\n",
    "\n",
    "expected_frequency = total_observations / num_intervals\n",
    "expected_counts = [expected_frequency] * num_intervals\n",
    "\n",
    "chi2_stat, p_value = stats.chisquare(observed_counts, f_exp=expected_counts)\n",
    "chi2_stat, p_value\n"
   ]
  },
  {
   "cell_type": "markdown",
   "metadata": {},
   "source": [
    "## Task 3"
   ]
  },
  {
   "cell_type": "code",
   "execution_count": 6,
   "metadata": {},
   "outputs": [
    {
     "data": {
      "text/plain": [
       "(-0.27866501008526884, 0.7836780729572262)"
      ]
     },
     "execution_count": 6,
     "metadata": {},
     "output_type": "execute_result"
    }
   ],
   "source": [
    "X = [-1.75, -0.33, -1.26, 0.32, 1.53, 0.35, -0.96, -0.06, 0.42, -1.08]\n",
    "Y = [-0.29, 0.09, 1.70, -1.09, -0.44, -0.29, 0.25, -0.54, -1.38, 0.32]\n",
    "\n",
    "t_stat, p_value = stats.ttest_ind(X, Y, equal_var=True)\n",
    "t_stat, p_value\n"
   ]
  },
  {
   "cell_type": "markdown",
   "metadata": {},
   "source": [
    "## Task 4"
   ]
  },
  {
   "cell_type": "code",
   "execution_count": 7,
   "metadata": {},
   "outputs": [
    {
     "name": "stderr",
     "output_type": "stream",
     "text": [
      "/Users/vladimirs/miniconda3/envs/ml/lib/python3.11/site-packages/scipy/stats/_morestats.py:4088: UserWarning: Exact p-value calculation does not work if there are zeros. Switching to normal approximation.\n",
      "  warnings.warn(\"Exact p-value calculation does not work if there are \"\n"
     ]
    },
    {
     "data": {
      "text/plain": [
       "(4.5, 0.011197738894413023)"
      ]
     },
     "execution_count": 7,
     "metadata": {},
     "output_type": "execute_result"
    }
   ],
   "source": [
    "X = [176, 163, 152, 155, 156, 178, 160, 164, 169, 155, 122, 144]\n",
    "Y = [168, 215, 172, 200, 191, 197, 183, 174, 176, 155, 115, 163]\n",
    "\n",
    "wilcoxon_stat, p_value = stats.wilcoxon(X, Y)\n",
    "wilcoxon_stat, p_value\n"
   ]
  },
  {
   "cell_type": "markdown",
   "metadata": {},
   "source": [
    "## Task 5"
   ]
  },
  {
   "cell_type": "code",
   "execution_count": 8,
   "metadata": {},
   "outputs": [
    {
     "name": "stdout",
     "output_type": "stream",
     "text": [
      "Critical value (c): 0.4748283421489824\n",
      "Test power (W): 0.9655631977150569\n"
     ]
    }
   ],
   "source": [
    "import numpy as np\n",
    "from scipy.stats import norm\n",
    "\n",
    "def find_critical_value(n, alpha):\n",
    "    \"\"\"\n",
    "    Finds the critical value c for a given n and alpha.\n",
    "\n",
    "    :params:\n",
    "    - n: int, number of samples\n",
    "    - alpha: float, significance level\n",
    "    \"\"\"\n",
    "    std_H0 = 1 / np.sqrt(n)\n",
    "    c = norm.ppf(1 - alpha, loc=0, scale=std_H0)\n",
    "    return c\n",
    "\n",
    "def find_test_power(n, c):\n",
    "    \"\"\"\n",
    "    Finds the power of the test for a given n and critical value c.\n",
    "\n",
    "    :params:\n",
    "    - n: int, number of samples\n",
    "    - c: float, critical value\n",
    "    \"\"\"\n",
    "    std_H1 = 1 / np.sqrt(n)\n",
    "    W = 1 - norm.cdf(c, loc=1, scale=std_H1)\n",
    "    return W\n",
    "\n",
    "n = 12\n",
    "alpha = 0.05\n",
    "\n",
    "c = find_critical_value(n, alpha)\n",
    "W = find_test_power(n, c)\n",
    "\n",
    "print(\"Critical value (c):\", c)\n",
    "print(\"Test power (W):\", W)\n"
   ]
  },
  {
   "cell_type": "markdown",
   "metadata": {},
   "source": []
  }
 ],
 "metadata": {
  "kernelspec": {
   "display_name": "ml",
   "language": "python",
   "name": "python3"
  },
  "language_info": {
   "codemirror_mode": {
    "name": "ipython",
    "version": 3
   },
   "file_extension": ".py",
   "mimetype": "text/x-python",
   "name": "python",
   "nbconvert_exporter": "python",
   "pygments_lexer": "ipython3",
   "version": "3.11.6"
  }
 },
 "nbformat": 4,
 "nbformat_minor": 2
}
