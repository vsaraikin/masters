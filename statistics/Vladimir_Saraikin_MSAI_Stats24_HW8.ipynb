{
 "cells": [
  {
   "cell_type": "markdown",
   "metadata": {},
   "source": [
    "# HW 8 Vladimir Saraikin"
   ]
  },
  {
   "cell_type": "code",
   "execution_count": 1,
   "metadata": {},
   "outputs": [],
   "source": [
    "import numpy as  np\n",
    "import pandas as pd\n",
    "from sklearn.datasets import load_diabetes, load_wine\n",
    "from sklearn.model_selection import train_test_split\n",
    "from sklearn.linear_model import Ridge, LinearRegression\n",
    "from sklearn.metrics import mean_squared_error\n",
    "import statsmodels.api as sm\n",
    "from scipy.stats import shapiro, pearsonr\n",
    "from statsmodels.stats.multitest import multipletests\n",
    "\n",
    "from scipy import stats"
   ]
  },
  {
   "cell_type": "markdown",
   "metadata": {},
   "source": [
    "## Task 2"
   ]
  },
  {
   "cell_type": "markdown",
   "metadata": {},
   "source": [
    "### 1"
   ]
  },
  {
   "cell_type": "code",
   "execution_count": 2,
   "metadata": {},
   "outputs": [
    {
     "name": "stdout",
     "output_type": "stream",
     "text": [
      "Normality assumption not met for age\n",
      "Normality assumption not met for sex\n",
      "Normality assumption not met for bmi\n",
      "Normality assumption not met for bp\n",
      "Normality assumption not met for s1\n",
      "Normality assumption not met for s2\n",
      "Normality assumption not met for s3\n",
      "Normality assumption not met for s4\n",
      "Normality assumption not met for s5\n",
      "Selected features: Index(['age', 'bmi', 'bp', 's1', 's2', 's3', 's4', 's5', 's6'], dtype='object')\n",
      "RMSE on testing dataset: 54.651010257034045\n"
     ]
    }
   ],
   "source": [
    "data = load_diabetes(as_frame=True)\n",
    "df = data['frame']\n",
    "\n",
    "df_train, df_test = train_test_split(df, test_size=0.2, random_state=42)\n",
    "\n",
    "p_values = []\n",
    "features = df_train.columns[:-1]\n",
    "\n",
    "for feature in features:\n",
    "    if shapiro(df_train[feature]).pvalue < 0.05:\n",
    "        print(f\"Normality assumption not met for {feature}\")\n",
    "\n",
    "    correlation, p_value = pearsonr(df_train[feature], df_train['target'])\n",
    "    p_values.append(p_value)\n",
    "\n",
    "rejected, corrected_p_values, _, _ = multipletests(p_values, alpha=0.05, method='fdr_bh')\n",
    "\n",
    "selected_features = features[rejected]\n",
    "\n",
    "model = LinearRegression()\n",
    "model.fit(df_train[selected_features], df_train['target'])\n",
    "\n",
    "predictions = model.predict(df_test[selected_features])\n",
    "rmse = np.sqrt(mean_squared_error(df_test['target'], predictions))\n",
    "\n",
    "print(\"Selected features:\", selected_features)\n",
    "print(\"RMSE on testing dataset:\", rmse)\n",
    "\n"
   ]
  },
  {
   "cell_type": "markdown",
   "metadata": {},
   "source": [
    "### 2"
   ]
  },
  {
   "cell_type": "code",
   "execution_count": 3,
   "metadata": {},
   "outputs": [
    {
     "name": "stdout",
     "output_type": "stream",
     "text": [
      "Normality assumption not met for residuals\n",
      "Confidence Intervals:\n",
      "                  0            1\n",
      "const   145.637907   157.053302\n",
      "age     -97.923288   173.731331\n",
      "sex    -376.835633  -107.093092\n",
      "bmi     391.062323   693.795194\n",
      "bp      207.350409   488.057279\n",
      "s1    -1818.843994   -44.133698\n",
      "s2     -198.122152  1234.246706\n",
      "s3     -294.901155   621.741121\n",
      "s4      -89.349387   639.985190\n",
      "s5      357.689156  1114.708562\n",
      "s6      -95.771349   193.112664\n",
      "Selected significant features: ['sex', 'bmi', 'bp', 's1', 's5']\n",
      "RMSE on testing dataset: 53.4335953887283\n"
     ]
    }
   ],
   "source": [
    "data = load_diabetes(as_frame=True)\n",
    "df = data['frame']\n",
    "df_train, df_test = train_test_split(df, test_size=0.2, random_state=42)\n",
    "\n",
    "ridge = Ridge(alpha=1.0)\n",
    "ridge.fit(df_train.drop(columns=['target']), df_train['target'])\n",
    "\n",
    "residuals = df_train['target'] - ridge.predict(df_train.drop(columns=['target']))\n",
    "if shapiro(residuals).pvalue < 0.05:\n",
    "    print(\"Normality assumption not met for residuals\")\n",
    "\n",
    "X_train_sm = sm.add_constant(df_train.drop(columns=['target']))  # Adding a constant for OLS\n",
    "model = sm.OLS(df_train['target'], X_train_sm)\n",
    "results = model.fit()\n",
    "\n",
    "conf_intervals = results.conf_int(alpha=0.05)  # 95% CI\n",
    "print(\"Confidence Intervals:\\n\", conf_intervals)\n",
    "\n",
    "significant_features = conf_intervals.loc[~((conf_intervals[0] <= 0) & (conf_intervals[1] >= 0))].index\n",
    "\n",
    "significant_features = [feat for feat in significant_features if feat != 'const']\n",
    "X_train_significant = df_train[significant_features]\n",
    "X_test_significant = df_test[significant_features]\n",
    "\n",
    "lin_reg = LinearRegression()\n",
    "lin_reg.fit(X_train_significant, df_train['target'])\n",
    "\n",
    "predictions = lin_reg.predict(X_test_significant)\n",
    "rmse = np.sqrt(mean_squared_error(df_test['target'], predictions))\n",
    "\n",
    "print(\"Selected significant features:\", significant_features)\n",
    "print(\"RMSE on testing dataset:\", rmse)\n"
   ]
  },
  {
   "cell_type": "markdown",
   "metadata": {},
   "source": [
    "## Task 3"
   ]
  },
  {
   "cell_type": "code",
   "execution_count": 4,
   "metadata": {},
   "outputs": [],
   "source": [
    "data = load_wine(as_frame=True)\n",
    "df = data['frame']\n",
    "\n",
    "X = df['color_intensity']\n",
    "Y = df['hue']\n",
    "Z = df['flavanoids']"
   ]
  },
  {
   "cell_type": "markdown",
   "metadata": {},
   "source": [
    "### 1"
   ]
  },
  {
   "cell_type": "code",
   "execution_count": 5,
   "metadata": {},
   "outputs": [
    {
     "name": "stdout",
     "output_type": "stream",
     "text": [
      "Pearson correlation between X and Y: -0.5218131932287577, p-value: 8.075008429978309e-14\n"
     ]
    }
   ],
   "source": [
    "rho_xy, p_value_xy = stats.pearsonr(X, Y)\n",
    "print(f\"Pearson correlation between X and Y: {rho_xy}, p-value: {p_value_xy}\")"
   ]
  },
  {
   "cell_type": "markdown",
   "metadata": {},
   "source": [
    "### 2"
   ]
  },
  {
   "cell_type": "code",
   "execution_count": 6,
   "metadata": {},
   "outputs": [
    {
     "name": "stdout",
     "output_type": "stream",
     "text": [
      "Manual Pearson correlation: -0.5188816584353376, t-value: -8.05261114076038, p-value: 1.1746159600534156e-13\n"
     ]
    }
   ],
   "source": [
    "mean_X, mean_Y = np.mean(X), np.mean(Y)\n",
    "std_X, std_Y = np.std(X, ddof=1), np.std(Y, ddof=1)\n",
    "rho_manual = np.mean((X - mean_X) * (Y - mean_Y)) / (std_X * std_Y)\n",
    "n = len(X)\n",
    "t_value = rho_manual * np.sqrt((n - 2) / (1 - rho_manual**2))\n",
    "p_value_manual = 2 * (1 - stats.t.cdf(np.abs(t_value), df=n-2))\n",
    "print(f\"Manual Pearson correlation: {rho_manual}, t-value: {t_value}, p-value: {p_value_manual}\")"
   ]
  },
  {
   "cell_type": "markdown",
   "metadata": {},
   "source": [
    "### 3"
   ]
  },
  {
   "cell_type": "code",
   "execution_count": 7,
   "metadata": {},
   "outputs": [
    {
     "name": "stdout",
     "output_type": "stream",
     "text": [
      "Spearman's correlation between X and Z: -0.04291038821273014, p-value: 0.5695430180550238\n"
     ]
    }
   ],
   "source": [
    "rho_s_xz, p_value_s_xz = stats.spearmanr(X, Z)\n",
    "print(f\"Spearman's correlation between X and Z: {rho_s_xz}, p-value: {p_value_s_xz}\")"
   ]
  },
  {
   "cell_type": "markdown",
   "metadata": {},
   "source": [
    "### 4"
   ]
  },
  {
   "cell_type": "code",
   "execution_count": 8,
   "metadata": {},
   "outputs": [
    {
     "name": "stdout",
     "output_type": "stream",
     "text": [
      "Kendall's tau between X and Z: 0.028674293665247572, p-value: 0.5712785725826517\n"
     ]
    }
   ],
   "source": [
    "tau_xz, p_value_tau_xz = stats.kendalltau(X, Z)\n",
    "print(f\"Kendall's tau between X and Z: {tau_xz}, p-value: {p_value_tau_xz}\")"
   ]
  },
  {
   "cell_type": "code",
   "execution_count": null,
   "metadata": {},
   "outputs": [],
   "source": []
  }
 ],
 "metadata": {
  "kernelspec": {
   "display_name": "ml",
   "language": "python",
   "name": "python3"
  },
  "language_info": {
   "codemirror_mode": {
    "name": "ipython",
    "version": 3
   },
   "file_extension": ".py",
   "mimetype": "text/x-python",
   "name": "python",
   "nbconvert_exporter": "python",
   "pygments_lexer": "ipython3",
   "version": "3.11.6"
  }
 },
 "nbformat": 4,
 "nbformat_minor": 2
}
