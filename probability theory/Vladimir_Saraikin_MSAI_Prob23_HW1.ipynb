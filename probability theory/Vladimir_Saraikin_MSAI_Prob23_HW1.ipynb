{
 "cells": [
  {
   "cell_type": "markdown",
   "metadata": {},
   "source": [
    "# Problem 1"
   ]
  },
  {
   "cell_type": "markdown",
   "metadata": {},
   "source": [
    "### Scenario 1: The chocolate bars are all the same\n",
    "\n",
    "In this case, we are essentially finding the number of non-negative integer solutions to the equation:"
   ]
  },
  {
   "cell_type": "markdown",
   "metadata": {},
   "source": [
    "$ x_1 + x_2 + \\dots + x_{10} = 15 $\n",
    "Using the \"stars and bars\" method, the number of ways is:\n",
    "$ \\binom{15+10-1}{15} = \\binom{24}{15} $\n",
    "\n",
    "- **Sampling**: Without replacement (each chocolate bar is given away only once)\n",
    "- **Order**: Does not matter\n",
    "\n",
    "**Solution:** $ \\binom{24}{15}$ ways = $1,307,504$.\n"
   ]
  },
  {
   "cell_type": "markdown",
   "metadata": {},
   "source": [
    "### Scenario 2: The chocolate bars are all the same, and each child must receive at least one\n",
    "\n",
    "First, give one chocolate bar to each child. We are left with distributing 5 chocolate bars among the 10 children. The equation becomes:\n"
   ]
  },
  {
   "cell_type": "markdown",
   "metadata": {},
   "source": [
    "$ x_1 + x_2 + \\dots + x_{10} = 5 $\n",
    "Using the \"stars and bars\" method:\n",
    "$ \\binom{5+10-1}{5} = \\binom{14}{5} $\n",
    "\n",
    "- **Sampling**: Without replacement\n",
    "- **Order**: Does not matter\n",
    "\n",
    "**Solution:** $ \\binom{14}{5} $ ways = $2,002$.\n"
   ]
  },
  {
   "cell_type": "markdown",
   "metadata": {},
   "source": [
    "### Scenario 3: The chocolate bars are not all the same\n",
    "\n",
    "Here, distributing the bars is a permutation problem. The total number of ways is:\n",
    "$ \\frac{15!}{(15-10)!} = \\frac{15!}{5!} $ <br>\n",
    "\n",
    "- **Sampling**: Without replacement\n",
    "- **Order**: Matters\n",
    "\n",
    "Solution: $ \\frac{15!}{5!} $ ways = $10,897,286,400$."
   ]
  },
  {
   "cell_type": "code",
   "execution_count": null,
   "metadata": {},
   "outputs": [],
   "source": []
  }
 ],
 "metadata": {
  "language_info": {
   "name": "python"
  }
 },
 "nbformat": 4,
 "nbformat_minor": 2
}
