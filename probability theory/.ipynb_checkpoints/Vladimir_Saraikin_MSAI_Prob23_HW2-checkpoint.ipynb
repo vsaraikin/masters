{
 "cells": [
  {
   "cell_type": "markdown",
   "metadata": {},
   "source": [
    "# HW2 – Probability Theory"
   ]
  },
  {
   "cell_type": "markdown",
   "metadata": {},
   "source": [
    "## Problem 1"
   ]
  },
  {
   "cell_type": "markdown",
   "metadata": {},
   "source": [
    "Events:\n",
    "\n",
    "- $ A $: The second ball drawn is white.\n",
    "- $ B $: The first ball drawn is white.\n",
    "\n",
    "We want to find $ P(A|B) $, the probability that the second ball is white given that the first ball drawn is white.\n",
    "\n",
    "We have two scenarios:\n",
    "\n",
    "1. The white ball was added to Basket 1, which already had a white ball. If the first drawn ball is white, the second ball will definitely be white. The probability of choosing Basket 1 is $ \\frac{1}{2} $, and the probability of drawing a white ball from Basket 1 after adding the white ball is $ 1 $ since both balls are white.\n",
    "\n",
    "2. The white ball was added to Basket 2, which had a black ball. If the first drawn ball is white, the second ball must be black. The probability of choosing Basket 2 is $ \\frac{1}{2} $, but in this case, the probability of drawing a white ball first is $ \\frac{1}{2} $ (since there's one white and one black ball).\n",
    "\n",
    "Using Bayes' theorem:\n",
    "\n",
    "$P(A|B) = \\frac{P(B|A) \\cdot P(A)}{P(B)}$\n",
    "\n",
    "We know that $ P(B|A) = 1 $ because if the second ball is white, the first ball must have been white. $ P(A) $ is the probability that the second ball is white without any prior information, which is $ \\frac{1}{2} $ (since there's an equal chance of adding the white ball to either basket). $ P(B) $ is the probability of drawing a white ball first, which we need to calculate.\n",
    "\n",
    "To calculate $ P(B) $, we consider both scenarios:\n",
    "\n",
    "1. The white ball is added to Basket 1, and a white ball is drawn: $ \\frac{1}{2} \\times 1 = \\frac{1}{2} $.\n",
    "2. The white ball is added to Basket 2, and a white ball is drawn: $ \\frac{1}{2} \\times \\frac{1}{2} = \\frac{1}{4} $.\n",
    "\n",
    "So, $ P(B) = \\frac{1}{2} + \\frac{1}{4} = \\frac{3}{4} $.\n",
    "\n",
    "Now we can calculate $ P(A|B) $:\n",
    "\n",
    "$P(A|B) = \\frac{P(B|A) \\cdot P(A)}{P(B)} = \\frac{1 \\cdot \\frac{1}{2}}{\\frac{3}{4}} = \\frac{\\frac{1}{2}}{\\frac{3}{4}} = \\frac{1}{2} \\times \\frac{4}{3} = \\frac{2}{3}$\n",
    "\n",
    "**Answer:** $ \\frac{2}{3} $.\n"
   ]
  },
  {
   "cell_type": "markdown",
   "metadata": {},
   "source": [
    "## Problem 2"
   ]
  },
  {
   "cell_type": "markdown",
   "metadata": {},
   "source": [
    "To solve this problem, we can use Bayes' theorem, which is stated as follows:\n",
    "\n",
    "$P(A|B) = \\frac{P(B|A) \\cdot P(A)}{P(B)}$\n",
    "\n",
    "Where:\n",
    "\n",
    "- $ P(A|B) $ is the posterior probability of event A occurring given that B is true.\n",
    "- $ P(B|A) $ is the likelihood of observing event B given that A is true.\n",
    "- $ P(A) $ is the prior probability of event A.\n",
    "- $ P(B) $ is the total probability of observing event B.\n",
    "\n",
    "In this context:\n",
    "\n",
    "- $ A $ is the event \"person has COVID\".\n",
    "- $ B $ is the event \"person tests positive for COVID\".\n",
    "\n",
    "Given:\n",
    "\n",
    "- $ P(B|A) $ (true positive rate) is 0.999.\n",
    "- $ P(B|\\neg A) $ (false positive rate) is 0.001.\n",
    "- $ P(A) $ (prior probability of having COVID) will be 0.01 in the first case and 0.0001 in the second case.\n",
    "- $ P(\\neg A) $ is the prior probability of not having COVID, which is $ 1 - P(A) $.\n",
    "\n",
    "We also need to calculate $ P(B) $, the total probability of testing positive, which is:\n",
    "\n",
    "$P(B) = P(B|A) \\cdot P(A) + P(B|\\neg A) \\cdot P(\\neg A)$\n",
    "\n",
    "### 1. When the prior probability $ P(A) $ is 0.01:\n",
    "\n",
    "$P(B) = (0.999 \\cdot 0.01) + (0.001 \\cdot (1 - 0.01))$\n",
    "\n",
    "$P(B) = 0.00999 + 0.001 \\cdot 0.99$\n",
    "\n",
    "$P(B) = 0.00999 + 0.00099$\n",
    "\n",
    "$P(B) = 0.01098$\n",
    "\n",
    "Now, we apply Bayes' theorem to find $ P(A|B) $:\n",
    "\n",
    "$P(A|B) = \\frac{0.999 \\cdot 0.01}{0.01098}$\n",
    "\n",
    "$P(A|B) = \\frac{0.00999}{0.01098}$\n",
    "\n",
    "**Answer:** $P(A|B) = 0.91002$.\n",
    "\n",
    "### 2. When the prior probability $ P(A) $ is 0.0001:\n",
    "\n",
    "$P(B) = (0.999 \\cdot 0.0001) + (0.001 \\cdot (1 - 0.0001))$\n",
    "\n",
    "$P(B) = 0.0000999 + 0.001 \\cdot 0.9999$\n",
    "\n",
    "$P(B) = 0.0000999 + 0.0009999$\n",
    "\n",
    "$P(B) = 0.0010998$\n",
    "\n",
    "Now, we apply Bayes' theorem to find $ P(A|B) $:\n",
    "\n",
    "$P(A|B) = \\frac{0.999 \\cdot 0.0001}{0.0010998}$\n",
    "\n",
    "$P(A|B) = \\frac{0.0000999}{0.0010998}$\n",
    "\n",
    "**Answer:** $P(A|B) = 0.09083$.\n"
   ]
  },
  {
   "cell_type": "markdown",
   "metadata": {},
   "source": [
    "## Problem 3"
   ]
  },
  {
   "cell_type": "markdown",
   "metadata": {},
   "source": [
    "The definition of conditional probability is:\n",
    "\n",
    "$$P(A|B) = \\frac{P(AB)}{P(B)}$$\n",
    "\n",
    "and\n",
    "\n",
    "$$P(A|\\overline{B}) = \\frac{P(A\\overline{B})}{P(\\overline{B})}$$\n",
    "\n",
    "$$\\Rightarrow$$\n",
    "\n",
    "$$\\frac{P(AB)}{P(B)} = \\frac{P(A\\overline{B})}{P(\\overline{B})},$$\n",
    "\n",
    "\n",
    "$$P(AB)P(\\overline{B}) = P(A\\overline{B})P(B)$$\n",
    "\n",
    "Now, we know that $ P(B) + P(\\overline{B}) = 1 $ because either event B happens or it doesn't (the sum of an event and its complement is always 1). So we can rewrite $ P(\\overline{B}) $ as $ 1 - P(B) $.\n",
    "\n",
    "Substituting $ 1 - P(B) $ into the equation gives:\n",
    "\n",
    "$$P(AB)(1 - P(B)) = P(A\\overline{B})P(B),$$\n",
    "\n",
    "$$P(AB) - P(AB)P(B) = P(A\\overline{B})P(B)$$\n",
    "\n",
    "$$P(AB) = P(A\\overline{B})P(B) + P(AB)P(B)$$\n",
    "\n",
    "Since $ P(A\\overline{B}) $ and $ P(AB) $ are mutually exclusive events (they cannot both happen at the same time), their probabilities add up to the total probability of A:\n",
    "\n",
    "$$P(AB) = P(A)P(B)$$\n",
    "\n",
    "This is the definition of independence $\\Rightarrow$ if $ P(A|B) = P(A|\\overline{B}) $, then A and B are independent events.\n"
   ]
  },
  {
   "cell_type": "markdown",
   "metadata": {},
   "source": [
    "## Problem 4"
   ]
  },
  {
   "cell_type": "code",
   "execution_count": 1,
   "metadata": {},
   "outputs": [
    {
     "name": "stdout",
     "output_type": "stream",
     "text": [
      "After toss 1, the posterior probability of heads is: 0.3333333333333333\n",
      "After toss 2, the posterior probability of heads is: 0.22222222222222218\n",
      "After toss 3, the posterior probability of heads is: 0.1379310344827586\n",
      "After toss 4, the posterior probability of heads is: 0.0792079207920792\n",
      "After toss 5, the posterior probability of heads is: 0.042895442359249324\n",
      "After toss 6, the posterior probability of heads is: 0.02239328201539538\n",
      "After toss 7, the posterior probability of heads is: 0.011451064591161209\n",
      "The final posterior probability of heads after 7 tosses is: 0.011451064591161209\n"
     ]
    }
   ],
   "source": [
    "prior_heads = 0.5\n",
    "likelihood_heads_fair = 0.5\n",
    "likelihood_heads_biased = 1.0 # likelihood of observing heads if the coin is biased (let's assume it's 1 for simplicity)\n",
    "\n",
    "# number of tosses and heads observed\n",
    "num_tosses = 7\n",
    "heads_observed = 7\n",
    "\n",
    "# calculate the posterior probability after each toss\n",
    "for toss in range(1, num_tosses + 1):\n",
    "    # calculate the probability of the data under the fair hypothesis\n",
    "    prob_data_fair = likelihood_heads_fair ** toss\n",
    "    \n",
    "    # calculate the probability of the data under the biased hypothesis\n",
    "    prob_data_biased = likelihood_heads_biased ** toss\n",
    "    \n",
    "    # calculate the total probability of observing the data\n",
    "    prob_data = prob_data_fair * prior_heads + prob_data_biased * (1 - prior_heads)\n",
    "    \n",
    "    # calculate the posterior probability of heads\n",
    "    posterior_heads = (likelihood_heads_fair * prior_heads) / prob_data\n",
    "    \n",
    "    # update the prior for the next iteration\n",
    "    prior_heads = posterior_heads\n",
    "    \n",
    "    print(f\"After toss {toss}, the posterior probability of heads is: {posterior_heads}\")\n",
    "print(f\"The final posterior probability of heads after {num_tosses} tosses is: {posterior_heads}\")\n"
   ]
  },
  {
   "cell_type": "markdown",
   "metadata": {},
   "source": [
    "## Problem 5"
   ]
  },
  {
   "cell_type": "markdown",
   "metadata": {},
   "source": [
    "### 1. Goat was revealed.\n",
    "\n",
    "If he reveals a goat, there is a car and a computer behind door 2 and 3.\n",
    "\n",
    "Initially, the probability of each prize being behind each door is:\n",
    "\n",
    " - Car: $ \\frac{1}{3} $\n",
    " - Computer: $ \\frac{1}{3} $\n",
    " - Goat: $ \\frac{1}{3} $\n",
    "\n",
    "\n",
    "There are now two doors left: \n",
    "- the one you initially chose\n",
    "- the one Monty didn't open\n",
    " \n",
    "The probability distribution changes because one of the non-chosen doors had a goat, which Monty has shown. The door Monty opens does not affect the probability of the door you initially chose, it still has a $ \\frac{1}{3} $ chance of having a car behind it. However, because Monty will always reveal a goat if it's an option, the door that remains closed now has a higher probability of having the car behind it.\n",
    "\n",
    "The remaining door has a $ \\frac{2}{3} $ chance of having the car behind it because if you initially chose the computer (1/3 chance), the car is definitely behind the other door, and if you initially chose the goat (1/3 chance), the car is also definitely behind the other door. If you initially chose the car (1/3 chance), the computer is behind the other door.\n",
    "\n",
    "**Answer:** **you should switch doors** because the probability of the car being behind the other door is **$ \\frac{2}{3} $**.\n",
    "\n",
    "### 2. Computer was revealed.\n",
    "\n",
    "Now, Monty reveals your less preferred prize with probability $ p $ and your more preferred prize with probability $ q = 1 - p $. He opens a door, revealing a computer.\n",
    "\n",
    "Let's denote:\n",
    "- $ C $ as the event that the car is behind the chosen door.\n",
    "- $ G $ as the event that the goat is behind the chosen door.\n",
    "- $ M_c $ as the event that Monty reveals the computer.\n",
    "\n",
    "We want to find the probability of the car being behind the other door given that Monty reveals the computer, which is $ P(C | M_c) $.\n",
    "\n",
    "Using Bayes' theorem:\n",
    "\n",
    "$$P(C | M_c) = \\frac{P(M_c | C) \\cdot P(C)}{P(M_c)}$$\n",
    "\n",
    "Here, $ P(C) $ is the prior probability of picking the car, which is $ \\frac{1}{3} $. $ P(M_c | C) $ is the probability that Monty reveals the computer given that you've chosen the car, which is $ p $ because if you chose the car, Monty has a choice and will reveal the computer with probability $ p $.\n",
    "\n",
    "Now, $ P(M_c) $ is the total probability that Monty reveals the computer, which can happen in two scenarios:\n",
    "1. You chose the car, and Monty reveals the computer with probability $ p $.\n",
    "2. You chose the goat, and Monty reveals the computer with probability $ q $ because he has no choice.\n",
    "\n",
    "So, $ P(M_c) = P(M_c | C) \\cdot P(C) + P(M_c | G) \\cdot P(G) $, where $ P(G) $ is the probability of initially choosing the goat, which is $ \\frac{1}{3} $.\n",
    "\n",
    "\n",
    "$$P(M_c) = p \\cdot \\frac{1}{3} + (1-p) \\cdot \\frac{1}{3}$$\n",
    "\n",
    "$$P(C | M_c) = \\frac{p \\cdot \\frac{1}{3}}{p \\cdot \\frac{1}{3} + (1-p) \\cdot \\frac{1}{3}}$$\n",
    "\n",
    "Simplifying:\n",
    "\n",
    "$$P(C | M_c) = \\frac{p}{p + (1-p)} = \\frac{p}{1}$$\n",
    "\n",
    "So, $ P(C | M_c) = p $.\n",
    "\n",
    "**Answer:** switch depends on whether $ P(C | M_c) $ is greater than $ \\frac{1}{3} $, which was your initial probability of having chosen the car.\n",
    "\n",
    "If $ p > \\frac{1}{2} $, then $ P(C | M_c) > \\frac{1}{3} $, and you should switch. If $ p < \\frac{1}{2} $, then $ P(C | M_c) < \\frac{1}{3} $, and you should not switch. If $ p = \\frac{1}{2} $, then $ P(C | M_c) = \\frac{1}{3} $, and it doesn't matter whether you switch or not; you have an equal chance of winning the car either way.\n",
    "\n",
    "\n"
   ]
  },
  {
   "cell_type": "markdown",
   "metadata": {},
   "source": []
  }
 ],
 "metadata": {
  "kernelspec": {
   "display_name": "myenv",
   "language": "python",
   "name": "python3"
  },
  "language_info": {
   "codemirror_mode": {
    "name": "ipython",
    "version": 3
   },
   "file_extension": ".py",
   "mimetype": "text/x-python",
   "name": "python",
   "nbconvert_exporter": "python",
   "pygments_lexer": "ipython3",
   "version": "3.10.12"
  }
 },
 "nbformat": 4,
 "nbformat_minor": 2
}
