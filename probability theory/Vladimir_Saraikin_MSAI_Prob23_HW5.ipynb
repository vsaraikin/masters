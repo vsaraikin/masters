{
 "cells": [
  {
   "cell_type": "markdown",
   "metadata": {},
   "source": [
    "# HW5 – Probability Theory"
   ]
  },
  {
   "cell_type": "markdown",
   "metadata": {},
   "source": [
    "## Problem 1"
   ]
  },
  {
   "cell_type": "markdown",
   "metadata": {},
   "source": [
    "To maximize the number of working man-days, it is necessary to maximize the function \n",
    "$ f(n) = 365 \\times n \\times \\left( \\frac{364}{365} \\right)^n $.\n",
    "\n",
    "The derivative of $ f(n) $ is \n",
    "   $ f'(n) = 364^n \\times 365^{1 - n} \\times (1 + n \\log(364) - n \\log(365)) $.\n",
    "\n",
    "Setting the derivative to zero and solving for $ n $ gives \n",
    "   $ n = \\left(-\\log(364) + \\log(365)\\right)^{-1} $.\n",
    "\n",
    "$ n \\approx 364.5 $.\n",
    "\n",
    "Since the number of employees must be an integer, the optimal number of employees is \n",
    "$ n = 364 $.\n",
    "\n",
    "On 364th day it yields:\n"
   ]
  },
  {
   "cell_type": "code",
   "execution_count": 11,
   "metadata": {},
   "outputs": [
    {
     "data": {
      "text/plain": [
       "48943.52380535132"
      ]
     },
     "execution_count": 11,
     "metadata": {},
     "output_type": "execute_result"
    }
   ],
   "source": [
    "n = 364\n",
    "365 * n * pow((364/365), n)"
   ]
  },
  {
   "cell_type": "markdown",
   "metadata": {},
   "source": [
    "## Problem 2"
   ]
  },
  {
   "cell_type": "markdown",
   "metadata": {},
   "source": [
    "Let $ X_i $ be an indicator random variable such that:\n",
    "  - $ X_i = 1 $ if letter $ i $ is in the correct envelope.\n",
    "  - $ X_i = 0 $ otherwise.\n",
    "\n",
    "The expected value of $ X_i $, $ E[X_i] $, is $ \\frac{1}{n} $ since each letter is equally likely to go into any of the $ n $ envelopes.\n",
    "\n",
    "The total number of correctly placed letters is $ X = X_1 + X_2 + \\cdots + X_n $.\n",
    "\n",
    "By the linearity of expectation, $ E[X] = E[X_1] + E[X_2] + \\cdots + E[X_n] = n \\times \\frac{1}{n} = 1 $."
   ]
  },
  {
   "cell_type": "markdown",
   "metadata": {},
   "source": [
    "## Problem 3"
   ]
  },
  {
   "cell_type": "markdown",
   "metadata": {},
   "source": [
    "Let $X$ $\\sim$ $Pois(\\lambda_1)$  and  $Y$ $\\sim$ $Pois (\\lambda_2)$, be independent Poisson random variables.\n",
    "\n",
    "Then, the sum $Z = X + Y$, is also a Poisson random variable.\n",
    "\n",
    "The parameter of $Z$ is the sum of the parameters of $X$ and  $Y$ that is, $Z$ $\\sim$ $Pois (\\lambda_1 + \\lambda_2)$."
   ]
  },
  {
   "cell_type": "markdown",
   "metadata": {},
   "source": [
    "## Problem 4"
   ]
  },
  {
   "cell_type": "markdown",
   "metadata": {},
   "source": [
    "\\begin{align*}\n",
    "P(X = k | X + Y = n) &= \\frac{P(X = k \\text{ and } X + Y = n)}{P(X + Y = n)} \\\\\n",
    "&= \\frac{P(X = k \\text{ and } Y = n - k)}{P(X + Y = n)} \\\\\n",
    "&= \\frac{\\frac{e^{-\\lambda_1} \\lambda_1^k}{k!} \\cdot \\frac{e^{-\\lambda_2} \\lambda_2^{n-k}}{(n-k)!}}{\\frac{e^{-(\\lambda_1 + \\lambda_2)} (\\lambda_1 + \\lambda_2)^n}{n!}} \\\\\n",
    "&= \\frac{\\lambda_1^k \\lambda_2^{n-k}}{(\\lambda_1 + \\lambda_2)^n} \\cdot \\frac{n!}{k!(n-k)!} \\\\\n",
    "&= \\binom{n}{k} \\left( \\frac{\\lambda_1}{\\lambda_1 + \\lambda_2} \\right)^k \\left( \\frac{\\lambda_2}{\\lambda_1 + \\lambda_2} \\right)^{n-k}\n",
    "\\end{align*}\n"
   ]
  },
  {
   "cell_type": "markdown",
   "metadata": {},
   "source": [
    "## Problem 5"
   ]
  },
  {
   "cell_type": "markdown",
   "metadata": {},
   "source": [
    "$\\text{Expectation} = \\frac{nk}{N}$\n",
    "\n",
    "where:\n",
    "\n",
    "- n is the number of draws (i.e., the sample size),\n",
    "- k is the number of successes in the population,\n",
    "- N is the population size."
   ]
  },
  {
   "cell_type": "markdown",
   "metadata": {},
   "source": [
    "## Problem 7"
   ]
  },
  {
   "cell_type": "markdown",
   "metadata": {},
   "source": [
    "Expectation (Mean) of Negative Binomial Distribution\n",
    "$E[X] = r \\times \\frac{1-p}{p}$\n",
    "\n",
    "Variance of Negative Binomial Distribution\n",
    "$Var[X] = r \\times \\frac{1-p}{p^2}$"
   ]
  }
 ],
 "metadata": {
  "kernelspec": {
   "display_name": "myenv",
   "language": "python",
   "name": "python3"
  },
  "language_info": {
   "codemirror_mode": {
    "name": "ipython",
    "version": 3
   },
   "file_extension": ".py",
   "mimetype": "text/x-python",
   "name": "python",
   "nbconvert_exporter": "python",
   "pygments_lexer": "ipython3",
   "version": "3.10.12"
  }
 },
 "nbformat": 4,
 "nbformat_minor": 2
}
