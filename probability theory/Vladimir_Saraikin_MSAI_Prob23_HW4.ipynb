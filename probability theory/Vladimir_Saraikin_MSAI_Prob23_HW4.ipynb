{
 "cells": [
  {
   "cell_type": "markdown",
   "metadata": {},
   "source": [
    "# HW4 – Probability Theory"
   ]
  },
  {
   "cell_type": "markdown",
   "metadata": {},
   "source": [
    "## Problem 1"
   ]
  },
  {
   "cell_type": "markdown",
   "metadata": {},
   "source": [
    "This can be modeled using a binomial distribution:\n",
    "\n",
    "$ P(X \\leq 100) = \\sum_{k=0}^{100} \\binom{110}{k} \\cdot 0.9^k \\cdot 0.1^{110-k} $\n",
    "\n",
    "Computing this sum, find:\n",
    "\n",
    "$ P(X \\leq 100) \\approx 0.671 $\n",
    "\n",
    "**Answer:** 0.671."
   ]
  },
  {
   "cell_type": "markdown",
   "metadata": {},
   "source": [
    "## Problem 2"
   ]
  },
  {
   "cell_type": "markdown",
   "metadata": {},
   "source": [
    "Find the minimal number of problems $ n $ such that:\n",
    "1. Probability of a good student not passing the test $ \\leq 0.01 $\n",
    "2. Probability of a bad student passing the test $ \\leq 0.1 $\n",
    "\n",
    "The conditions are:\n",
    "1. $ P(\\text{Good student does not pass}) = \\sum_{i=0}^{\\lfloor \\frac{n}{2} \\rfloor} \\binom{n}{i} \\cdot p_{\\text{good}}^i \\cdot (1 - p_{\\text{good}})^{n-i} \\leq 0.01 $\n",
    "2. $ P(\\text{Bad student passes}) = \\sum_{i=\\lceil \\frac{n}{2} + 1 \\rceil}^{n} \\binom{n}{i} \\cdot p_{\\text{bad}}^i \\cdot (1 - p_{\\text{bad}})^{n-i} \\leq 0.1 $\n",
    "\n",
    "By iterative computation, the smallest $ n $ satisfying both conditions is found to be is $3$.\n",
    "\n",
    "**Answer:** $ n = 3 $"
   ]
  },
  {
   "cell_type": "markdown",
   "metadata": {},
   "source": [
    "## Problem 3"
   ]
  },
  {
   "cell_type": "markdown",
   "metadata": {},
   "source": [
    "Find the CDFs of $ Z_1 $ and $ Z_2 $.\n",
    "\n",
    "**CDF of $ Z_1 = \\max(X, Y) $:**\n",
    "The CDF of $ Z_1 $, denoted as $ F_{Z_1}(z) $, is the probability that $ Z_1 $ is less than or equal to $ z $. Since $ Z_1 $ is the maximum of $ X $ and $ Y $, both $ X $ and $ Y $ must be less than or equal to $ z $ for $ Z_1 \\leq z $. Thus,\n",
    "\n",
    "$ F_{Z_1}(z) = P(Z_1 \\leq z) = P(\\max(X, Y) \\leq z) = P(X \\leq z, Y \\leq z) = P(X \\leq z) \\cdot P(Y \\leq z) = F_X(z) \\cdot F_Y(z) $\n",
    "\n",
    "**CDF of $ Z_2 = \\min(X, Y) $:**\n",
    "The CDF of $ Z_2 $, denoted as $ F_{Z_2}(z) $, is the probability that $ Z_2 $ is less than or equal to $ z $. Since $ Z_2 $ is the minimum of $ X $ and $ Y $, either $ X $ or $ Y $ (or both) being less than or equal to $ z $ is sufficient for $ Z_2 \\leq z $. Thus,\n",
    "\n",
    "$ F_{Z_2}(z) = P(Z_2 \\leq z) = P(\\min(X, Y) \\leq z) = 1 - P(X > z, Y > z) = 1 - (1 - F_X(z)) \\cdot (1 - F_Y(z)) $"
   ]
  },
  {
   "cell_type": "markdown",
   "metadata": {},
   "source": []
  }
 ],
 "metadata": {
  "kernelspec": {
   "display_name": "myenv",
   "language": "python",
   "name": "python3"
  },
  "language_info": {
   "codemirror_mode": {
    "name": "ipython",
    "version": 3
   },
   "file_extension": ".py",
   "mimetype": "text/x-python",
   "name": "python",
   "nbconvert_exporter": "python",
   "pygments_lexer": "ipython3",
   "version": "3.10.12"
  }
 },
 "nbformat": 4,
 "nbformat_minor": 2
}
